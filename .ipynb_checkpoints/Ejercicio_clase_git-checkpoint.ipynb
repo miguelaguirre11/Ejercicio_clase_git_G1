{
 "cells": [
  {
   "cell_type": "markdown",
   "metadata": {},
   "source": [
    "# Ejercicios clase git 1"
   ]
  },
  {
   "cell_type": "markdown",
   "metadata": {},
   "source": [
    "# 1\n",
    "La sucesión de Fibonacci se define de la siguiente forma: a1=1, a2=1 y an=an-1+an-2 para n>2, es decir los dos primeros son 1 y el resto cada uno es la suma de los dos anteriores, los primeros son: 1, 1, 2, 3, 5, 8, 13, 21, ... Hacer un diagrama de flujo para calcular el Nésimo término de la sucesión.\n",
    "\n",
    "# 2 \n",
    "Elabora un programa que solicite la medida en Pies y realice la conversión a pulgadas, yardas, cm y metros. Toma en cuenta que un pie tiene 12 pulgadas y una pulgada equivale a 2.54 cm.\n",
    "\n",
    "# 3\n",
    "Escribir un programa que pregunte al usuario su nombre, edad, dirección y teléfono y lo guarde en un diccionario. Después debe mostrar por pantalla el mensaje <nombre> tiene <edad> años, vive en <dirección> y su número de teléfono es <teléfono>.\n",
    "    \n",
    "# 4\n",
    "Escribir un programa que cree un diccionario vacío y lo vaya llenado con información sobre una persona (por ejemplo nombre, edad, sexo, teléfono, correo electrónico, etc.) que se le pida al usuario. Cada vez que se añada un nuevo dato debe imprimirse el contenido del diccionario.\n",
    "    \n",
    "# 5\n",
    "Escribir una función que simule una calculadora científica que permita calcular el seno, coseno, tangente, exponencial y logaritmo neperiano. La función preguntará al usuario el valor y la función a aplicar, y mostrará por pantalla una tabla con los enteros de 1 al valor introducido y el resultado de aplicar la función a esos enteros."
   ]
  },
  {
   "cell_type": "code",
   "execution_count": 9,
   "metadata": {
    "scrolled": false
   },
   "outputs": [
    {
     "data": {
      "text/plain": [
       "['estudiante 1 ejercicio 1',\n",
       " 'estudiante 2 ejercicio 2',\n",
       " 'estudiante 3 ejercicio 3',\n",
       " 'estudiante 4 ejercicio 4',\n",
       " 'estudiante 5 ejercicio 5',\n",
       " 'estudiante 6 ejercicio 1',\n",
       " 'estudiante 7 ejercicio 2',\n",
       " 'estudiante 8 ejercicio 3',\n",
       " 'estudiante 9 ejercicio 4',\n",
       " 'estudiante 10 ejercicio 5',\n",
       " 'estudiante 11 ejercicio 1',\n",
       " 'estudiante 12 ejercicio 2',\n",
       " 'estudiante 13 ejercicio 3',\n",
       " 'estudiante 14 ejercicio 4',\n",
       " 'estudiante 15 ejercicio 5',\n",
       " 'estudiante 16 ejercicio 1',\n",
       " 'estudiante 17 ejercicio 2',\n",
       " 'estudiante 18 ejercicio 3',\n",
       " 'estudiante 19 ejercicio 4',\n",
       " 'estudiante 20 ejercicio 5',\n",
       " 'estudiante 21 ejercicio 1',\n",
       " 'estudiante 22 ejercicio 2',\n",
       " 'estudiante 23 ejercicio 3',\n",
       " 'estudiante 24 ejercicio 4',\n",
       " 'estudiante 25 ejercicio 5']"
      ]
     },
     "execution_count": 9,
     "metadata": {},
     "output_type": "execute_result"
    }
   ],
   "source": [
    "# Profesor\n",
    "import numpy as np\n",
    "ejercicios = np.tile(np.arange(1,6), 5)\n",
    "estudiantes = np.arange(1, 26)\n",
    "clase = []\n",
    "\n",
    "for est, ejer in zip(estudiantes, ejercicios):\n",
    "    clase.append(f'estudiante {est} ejercicio {ejer}')\n",
    "    \n",
    "clase"
   ]
  },
  {
   "cell_type": "markdown",
   "metadata": {},
   "source": [
    "Creo que hay que meter esta ecuación \n",
    "\\begin{equation}\n",
    "\\dot x = Ax + B u, \\quad x \\in \\mathbb{R}^n\n",
    "\\end{equation}"
   ]
  },
  {
   "cell_type": "code",
   "execution_count": null,
   "metadata": {},
   "outputs": [],
   "source": [
    "# 1 - ejercicio 1\n",
    "Juan Enrique Aguirre"
   ]
  },
  {
   "cell_type": "code",
   "execution_count": 27,
   "metadata": {},
   "outputs": [
    {
     "name": "stdout",
     "output_type": "stream",
     "text": [
      "Inserte la medida en pies: 15\n",
      "Los 15 pies son equivalentes a  180 pulgadas,  4.95 yardas,  457.2 cm y 4.572 m\n"
     ]
    }
   ],
   "source": [
    "# 2 - ejercicio 2\n",
    "#Aguirre Orozco Miguel de Jesús \n",
    "\n",
    "pies = int(input('Inserte la medida en pies: '))\n",
    "pulgadas = pies * 12\n",
    "cm = pulgadas * 2.54\n",
    "yardas = pies * 0.33\n",
    "m = cm / 100\n",
    "print ('Los', pies ,'pies son equivalentes a ',\n",
    "        pulgadas, 'pulgadas, ',\n",
    "        yardas, 'yardas, ',\n",
    "        cm, 'cm y',\n",
    "        m, 'm')"
   ]
  },
  {
   "cell_type": "code",
   "execution_count": null,
   "metadata": {},
   "outputs": [],
   "source": [
    "# 3 - ejercicio 3"
   ]
  },
  {
   "cell_type": "code",
   "execution_count": null,
   "metadata": {},
   "outputs": [],
   "source": [
    "# 4 - ejercicio 4"
   ]
  },
  {
   "cell_type": "code",
   "execution_count": null,
   "metadata": {},
   "outputs": [],
   "source": [
    "# 5 - ejercicio 5"
   ]
  },
  {
   "cell_type": "code",
   "execution_count": null,
   "metadata": {},
   "outputs": [],
   "source": [
    "# 6 - ejercicio 1"
   ]
  },
  {
   "cell_type": "code",
   "execution_count": null,
   "metadata": {},
   "outputs": [],
   "source": [
    "# 7 - ejercicio 2"
   ]
  },
  {
   "cell_type": "code",
   "execution_count": null,
   "metadata": {},
   "outputs": [],
   "source": [
    "# 8 - ejercicio 3"
   ]
  },
  {
   "cell_type": "code",
   "execution_count": null,
   "metadata": {},
   "outputs": [],
   "source": [
    "# 9 - ejercicio 4"
   ]
  },
  {
   "cell_type": "code",
   "execution_count": 1,
   "metadata": {},
   "outputs": [],
   "source": [
    "# 10 - ejercicio 5"
   ]
  },
  {
   "cell_type": "code",
   "execution_count": null,
   "metadata": {},
   "outputs": [],
   "source": [
    "# 11 - ejercicio 1"
   ]
  },
  {
   "cell_type": "code",
   "execution_count": null,
   "metadata": {},
   "outputs": [],
   "source": [
    "# 12 - ejercicio 2"
   ]
  },
  {
   "cell_type": "code",
   "execution_count": null,
   "metadata": {},
   "outputs": [],
   "source": [
    "# 13 - ejercicio 3"
   ]
  },
  {
   "cell_type": "code",
   "execution_count": null,
   "metadata": {},
   "outputs": [],
   "source": [
    "# 14 - ejercicio 4"
   ]
  },
  {
   "cell_type": "code",
   "execution_count": null,
   "metadata": {},
   "outputs": [],
   "source": [
    "# 15 - ejercicio 5"
   ]
  },
  {
   "cell_type": "code",
   "execution_count": null,
   "metadata": {},
   "outputs": [],
   "source": [
    "# 16 - ejercicio 1"
   ]
  },
  {
   "cell_type": "code",
   "execution_count": null,
   "metadata": {},
   "outputs": [],
   "source": [
    "# 17 - ejercicio 2"
   ]
  },
  {
   "cell_type": "code",
   "execution_count": null,
   "metadata": {},
   "outputs": [],
   "source": [
    "# 18  - ejercicio 3"
   ]
  },
  {
   "cell_type": "code",
   "execution_count": null,
   "metadata": {},
   "outputs": [],
   "source": [
    "# 19 - ejercicio 4"
   ]
  },
  {
   "cell_type": "code",
   "execution_count": null,
   "metadata": {},
   "outputs": [],
   "source": [
    "# 20  - ejercicio 5"
   ]
  },
  {
   "cell_type": "code",
   "execution_count": null,
   "metadata": {},
   "outputs": [],
   "source": [
    "# 21 - ejercicio 1"
   ]
  },
  {
   "cell_type": "code",
   "execution_count": null,
   "metadata": {},
   "outputs": [],
   "source": [
    "# 22 - ejercicio 2"
   ]
  },
  {
   "cell_type": "code",
   "execution_count": null,
   "metadata": {},
   "outputs": [],
   "source": [
    "# 23 - ejercicio 3"
   ]
  },
  {
   "cell_type": "code",
   "execution_count": null,
   "metadata": {},
   "outputs": [],
   "source": [
    "# 24 - ejercicio 4"
   ]
  },
  {
   "cell_type": "code",
   "execution_count": null,
   "metadata": {},
   "outputs": [],
   "source": [
    "# 25 - ejercicio 5"
   ]
  }
 ],
 "metadata": {
  "kernelspec": {
   "display_name": "Python 3",
   "language": "python",
   "name": "python3"
  },
  "language_info": {
   "codemirror_mode": {
    "name": "ipython",
    "version": 3
   },
   "file_extension": ".py",
   "mimetype": "text/x-python",
   "name": "python",
   "nbconvert_exporter": "python",
   "pygments_lexer": "ipython3",
   "version": "3.7.6"
  }
 },
 "nbformat": 4,
 "nbformat_minor": 4
}
